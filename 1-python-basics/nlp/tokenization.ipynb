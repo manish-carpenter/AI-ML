{
 "cells": [
  {
   "cell_type": "code",
   "execution_count": 6,
   "id": "f2d3656a",
   "metadata": {},
   "outputs": [
    {
     "name": "stdout",
     "output_type": "stream",
     "text": [
      "Requirement already satisfied: nltk in /Users/manish/Documents/Dev/AI-ML/venv/lib/python3.12/site-packages (3.9.1)\n",
      "Requirement already satisfied: click in /Users/manish/Documents/Dev/AI-ML/venv/lib/python3.12/site-packages (from nltk) (8.2.1)\n",
      "Requirement already satisfied: joblib in /Users/manish/Documents/Dev/AI-ML/venv/lib/python3.12/site-packages (from nltk) (1.5.1)\n",
      "Requirement already satisfied: regex>=2021.8.3 in /Users/manish/Documents/Dev/AI-ML/venv/lib/python3.12/site-packages (from nltk) (2024.11.6)\n",
      "Requirement already satisfied: tqdm in /Users/manish/Documents/Dev/AI-ML/venv/lib/python3.12/site-packages (from nltk) (4.67.1)\n"
     ]
    }
   ],
   "source": [
    "!pip install nltk"
   ]
  },
  {
   "cell_type": "code",
   "execution_count": 11,
   "id": "699911e6",
   "metadata": {},
   "outputs": [
    {
     "name": "stderr",
     "output_type": "stream",
     "text": [
      "[nltk_data] Downloading package punkt to /Users/manish/nltk_data...\n",
      "[nltk_data]   Package punkt is already up-to-date!\n",
      "[nltk_data] Downloading package punkt_tab to\n",
      "[nltk_data]     /Users/manish/nltk_data...\n",
      "[nltk_data]   Unzipping tokenizers/punkt_tab.zip.\n"
     ]
    },
    {
     "data": {
      "text/plain": [
       "True"
      ]
     },
     "execution_count": 11,
     "metadata": {},
     "output_type": "execute_result"
    }
   ],
   "source": [
    "import nltk\n",
    "nltk.download('punkt')  # Downloads the required tokenizer models\n",
    "nltk.download('punkt_tab')"
   ]
  },
  {
   "cell_type": "code",
   "execution_count": 16,
   "id": "80c88022",
   "metadata": {},
   "outputs": [
    {
     "name": "stdout",
     "output_type": "stream",
     "text": [
      "Hello Mr. how are you. This is tokenization example. Let's see!\n"
     ]
    }
   ],
   "source": [
    "\n",
    "corpus = \"\"\"Hello Mr. how are you. This is tokenization example. Let's see!\"\"\"\n",
    "print(corpus)\n",
    "\n",
    "\n",
    "from nltk.tokenize import sent_tokenize\n",
    "document = sent_tokenize(corpus)"
   ]
  },
  {
   "cell_type": "code",
   "execution_count": 17,
   "id": "8557adce",
   "metadata": {},
   "outputs": [
    {
     "name": "stdout",
     "output_type": "stream",
     "text": [
      "Hello Mr. how are you.\n",
      "This is tokenization example.\n",
      "Let's see!\n"
     ]
    }
   ],
   "source": [
    "for sentance in document:\n",
    "  print(sentance)"
   ]
  },
  {
   "cell_type": "code",
   "execution_count": 18,
   "id": "7abd0b8e",
   "metadata": {},
   "outputs": [
    {
     "name": "stdout",
     "output_type": "stream",
     "text": [
      "['Hello', 'Mr.', 'how', 'are', 'you', '.', 'This', 'is', 'tokenization', 'example', '.', 'Let', \"'s\", 'see', '!']\n"
     ]
    }
   ],
   "source": [
    "from nltk.tokenize import word_tokenize\n",
    "word_tokens = word_tokenize(corpus)\n",
    "print(word_tokens)"
   ]
  },
  {
   "cell_type": "code",
   "execution_count": 21,
   "id": "91b78ef4",
   "metadata": {},
   "outputs": [
    {
     "name": "stdout",
     "output_type": "stream",
     "text": [
      "Hello Mr. how are you.\n",
      "['Hello', 'Mr.', 'how', 'are', 'you', '.']\n",
      "This is tokenization example.\n",
      "['This', 'is', 'tokenization', 'example', '.']\n",
      "Let's see!\n",
      "['Let', \"'s\", 'see', '!']\n"
     ]
    }
   ],
   "source": [
    "for sentance in document:\n",
    "  print(sentance)\n",
    "  word_tokens = word_tokenize(sentance)\n",
    "  print(word_tokens)"
   ]
  },
  {
   "cell_type": "code",
   "execution_count": 22,
   "id": "c6f65917",
   "metadata": {},
   "outputs": [
    {
     "name": "stdout",
     "output_type": "stream",
     "text": [
      "['Hello', 'Mr', '.', 'how', 'are', 'you', '.', 'This', 'is', 'tokenization', 'example', '.', 'Let', \"'\", 's', 'see', '!']\n"
     ]
    }
   ],
   "source": [
    "from nltk.tokenize import wordpunct_tokenize\n",
    "\n",
    "print(wordpunct_tokenize(corpus))"
   ]
  },
  {
   "cell_type": "code",
   "execution_count": null,
   "id": "9d2b2786",
   "metadata": {},
   "outputs": [],
   "source": []
  }
 ],
 "metadata": {
  "kernelspec": {
   "display_name": "Python 3",
   "language": "python",
   "name": "python3"
  },
  "language_info": {
   "codemirror_mode": {
    "name": "ipython",
    "version": 3
   },
   "file_extension": ".py",
   "mimetype": "text/x-python",
   "name": "python",
   "nbconvert_exporter": "python",
   "pygments_lexer": "ipython3",
   "version": "3.12.0"
  }
 },
 "nbformat": 4,
 "nbformat_minor": 5
}
